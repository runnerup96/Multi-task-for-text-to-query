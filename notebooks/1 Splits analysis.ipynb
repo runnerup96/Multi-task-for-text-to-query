{
 "cells": [
  {
   "cell_type": "code",
   "execution_count": null,
   "id": "1a8b959e-82ad-45c0-ab05-7921eaa94697",
   "metadata": {},
   "outputs": [],
   "source": [
    "import json\n",
    "import sys\n",
    "import os\n",
    "from tqdm import notebook\n",
    "from collections import Counter\n",
    "import importlib\n",
    "import pandas as pd\n",
    "import tqdm\n",
    "\n",
    "sys.path.append(\"\")#path to src code\n",
    "\n",
    "from split_logic.grammar.sparql_parser import SPARQLParser\n",
    "from split_logic.grammar.sql_parser import SQLParser\n",
    "from split_logic.grammar import atom_and_compound_cache\n",
    "\n",
    "importlib.reload(atom_and_compound_cache)"
   ]
  },
  {
   "cell_type": "code",
   "execution_count": null,
   "id": "5ed0ea0b-92e8-4a0f-8384-00ff2a019d21",
   "metadata": {},
   "outputs": [],
   "source": [
    "PROJECT_PATH = ''#path to project"
   ]
  },
  {
   "cell_type": "code",
   "execution_count": null,
   "id": "aeaca06f-93d1-4a0a-8aa1-6651b8e73aea",
   "metadata": {},
   "outputs": [],
   "source": [
    "sparql_dataset = json.load(open('', 'r'))#path to whole sparql dataset\n",
    "sparql_list = [sample[\"masked_query\"] for sample in sparql_dataset]\n",
    "sparql_parser = SPARQLParser(sparql_list)\n",
    "parser_dict = {'wikidata': sparql_parser}\n",
    "compound_path = os.path.join(PROJECT_PATH, 'dataset/lcquad/tmcd_split')\n",
    "cached_sparql_parser = atom_and_compound_cache.AtomAndCompoundCache(parser_dict, query_key_name = None,\n",
    "                                                                    kb_id_key_name=None,\n",
    "                                                                    return_compound_list_flag = False,\n",
    "                                                                   compound_cache_path=compound_path)"
   ]
  },
  {
   "cell_type": "code",
   "execution_count": null,
   "id": "1cbb5cf5-d5fc-489a-9770-3df11be051d9",
   "metadata": {},
   "outputs": [],
   "source": [
    "sql_dataset = json.load(open(''))#path to sql dataset\n",
    "db2attr_dict = json.load(open(os.path.join(PROJECT_PATH,\n",
    "                                           \"dataset/wikisql/table_id2new_attrs_for_parsing.json\")))\n",
    "\n",
    "compound_path = os.path.join(PROJECT_PATH, 'dataset/wikisql/tmcd_split')\n",
    "parser_dict = dict()\n",
    "for sample in tqdm.tqdm(sql_dataset, total=len(sql_dataset)):\n",
    "    db_id = sample['kb_id']\n",
    "    db_attributes = db2attr_dict[db_id]\n",
    "    if db_id not in parser_dict:\n",
    "        parser_instance = SQLParser(db_attributes)\n",
    "        parser_dict[db_id] = parser_instance\n",
    "        \n",
    "        \n",
    "cached_sql_parser = atom_and_compound_cache.AtomAndCompoundCache(parser_dict,\n",
    "                                                                 query_key_name=None, kb_id_key_name=None,\n",
    "                                                                 return_compound_list_flag=False,\n",
    "                                                                 compound_cache_path=compound_path)"
   ]
  },
  {
   "cell_type": "markdown",
   "id": "904459d5-b7f6-4c4e-82cd-dcbed1fa4b1c",
   "metadata": {
    "tags": []
   },
   "source": [
    "## Reading data"
   ]
  },
  {
   "cell_type": "markdown",
   "id": "a9f8a398-3ab4-4d2c-8bf0-c83810de1cb3",
   "metadata": {
    "tags": []
   },
   "source": [
    "### SPARQL"
   ]
  },
  {
   "cell_type": "code",
   "execution_count": null,
   "id": "d5e0fc91-64f6-49e9-8782-e32f9d49bc92",
   "metadata": {},
   "outputs": [],
   "source": [
    "sparql_os_train = json.load(open(os.path.join(PROJECT_PATH, 'dataset/lcquad/original_split/english_train_split.json'), 'r'))\n",
    "sparql_os_test = json.load(open(os.path.join(PROJECT_PATH, 'dataset/lcquad/original_split/english_test_split.json'), 'r'))\n",
    "\n",
    "len(sparql_os_train), len(sparql_os_test)"
   ]
  },
  {
   "cell_type": "code",
   "execution_count": null,
   "id": "186dcb8f-d5fe-4d8e-bf76-acf545e86676",
   "metadata": {
    "tags": []
   },
   "outputs": [],
   "source": [
    "sparql_tmcd_train = json.load(open(os.path.join(PROJECT_PATH, 'dataset/lcquad/tmcd_split/english_train_split_coef_0.1.json'), 'r'))\n",
    "sparql_tmcd_dev = json.load(open(os.path.join(PROJECT_PATH, 'dataset/lcquad/tmcd_split/english_dev_split_coef_0.1.json'), 'r'))\n",
    "sparql_tmcd_test = json.load(open(os.path.join(PROJECT_PATH, 'dataset/lcquad/tmcd_split/english_test_split_coef_0.1.json'), 'r'))\n",
    "\n",
    "len(sparql_tmcd_train), len(sparql_tmcd_dev), len(sparql_tmcd_test)"
   ]
  },
  {
   "cell_type": "code",
   "execution_count": null,
   "id": "c1847f6d-b1b2-4cd4-ac37-6df321cfa887",
   "metadata": {},
   "outputs": [],
   "source": [
    "sparql_tl_train = json.load(open(os.path.join(PROJECT_PATH, 'dataset/lcquad/target_length_split/english_train_split_above_50_percentile.json'), 'r'))\n",
    "sparql_tl_dev = json.load(open(os.path.join(PROJECT_PATH, 'dataset/lcquad/target_length_split/english_dev_split_below_50_percentile.json'), 'r'))\n",
    "sparql_tl_test = json.load(open(os.path.join(PROJECT_PATH, 'dataset/lcquad/target_length_split/english_test_split_below_50_percentile.json'), 'r'))\n",
    "\n",
    "len(sparql_tl_train), len(sparql_tl_dev), len(sparql_tl_test)"
   ]
  },
  {
   "cell_type": "code",
   "execution_count": null,
   "id": "23eb2261-2941-4383-993f-4d82265f4679",
   "metadata": {},
   "outputs": [],
   "source": [
    "sparql_iid_train = json.load(open(os.path.join(PROJECT_PATH, 'dataset/lcquad/language_variation_split/english_train_split.json'), 'r'))\n",
    "sparql_iid_dev = json.load(open(os.path.join(PROJECT_PATH, 'dataset/lcquad/language_variation_split/english_dev_split.json'), 'r'))\n",
    "sparql_iid_test = json.load(open(os.path.join(PROJECT_PATH, 'dataset/lcquad/language_variation_split/english_test_split.json'), 'r'))\n",
    "\n",
    "len(sparql_iid_train), len(sparql_iid_dev), len(sparql_iid_test)"
   ]
  },
  {
   "cell_type": "markdown",
   "id": "060272a1-d16f-4077-ad88-e89dd9e0e1b4",
   "metadata": {},
   "source": []
  },
  {
   "cell_type": "markdown",
   "id": "a505d675-e539-42b1-b608-90ddc2bd69fb",
   "metadata": {
    "tags": []
   },
   "source": [
    "### SQL"
   ]
  },
  {
   "cell_type": "code",
   "execution_count": null,
   "id": "ccb690ec-b2d5-4b0c-8276-bb5a0141f3d3",
   "metadata": {},
   "outputs": [],
   "source": [
    "sql_os_train = json.load(open(os.path.join(PROJECT_PATH, 'dataset/wikisql/original_split/train_split.json'), 'r'))\n",
    "sql_os_dev = json.load(open(os.path.join(PROJECT_PATH, 'dataset/wikisql/original_split/dev_split.json'), 'r'))\n",
    "sql_os_test = json.load(open(os.path.join(PROJECT_PATH, 'dataset/wikisql/original_split/test_split.json'), 'r'))\n",
    "\n",
    "len(sql_os_train), len(sql_os_dev), len(sql_os_test)"
   ]
  },
  {
   "cell_type": "code",
   "execution_count": null,
   "id": "604f8a58-ef27-483e-932b-6d9beda561b6",
   "metadata": {},
   "outputs": [],
   "source": [
    "sql_tmcd_train = json.load(open(os.path.join(PROJECT_PATH, 'dataset/wikisql/tmcd_split/english_train_split_coef_0.1.json'), 'r'))\n",
    "sql_tmcd_dev = json.load(open(os.path.join(PROJECT_PATH, 'dataset/wikisql/tmcd_split/english_dev_split_coef_0.1.json'), 'r'))\n",
    "sql_tmcd_test = json.load(open(os.path.join(PROJECT_PATH, 'dataset/wikisql/tmcd_split/english_test_split_coef_0.1.json'), 'r'))\n",
    "\n",
    "len(sql_tmcd_train), len(sql_tmcd_dev), len(sql_tmcd_test)"
   ]
  },
  {
   "cell_type": "code",
   "execution_count": null,
   "id": "a750eb78-509a-4f61-b0c5-bc755ad32b69",
   "metadata": {
    "tags": []
   },
   "outputs": [],
   "source": [
    "sql_tl_train = json.load(open(os.path.join(PROJECT_PATH, 'dataset/wikisql/target_length_split/english_train_split_85_percentile.json'), 'r'))\n",
    "sql_tl_dev = json.load(open(os.path.join(PROJECT_PATH, 'dataset/wikisql/target_length_split/english_dev_split_85_percentile.json'), 'r'))\n",
    "sql_tl_test = json.load(open(os.path.join(PROJECT_PATH, 'dataset/wikisql/target_length_split/english_test_split_85_percentile.json'), 'r'))\n",
    "\n",
    "len(sql_tl_train), len(sql_tl_dev), len(sql_tl_test)"
   ]
  },
  {
   "cell_type": "code",
   "execution_count": null,
   "id": "dd6fdf22-3388-4a98-a211-5bd5dd22e730",
   "metadata": {},
   "outputs": [],
   "source": [
    "sql_iid_train = json.load(open(os.path.join(PROJECT_PATH, 'dataset/wikisql/language_variation_split/english_train_split.json'), 'r'))\n",
    "sql_iid_dev = json.load(open(os.path.join(PROJECT_PATH, 'dataset/wikisql/language_variation_split/english_dev_split.json'), 'r'))\n",
    "sql_iid_test = json.load(open(os.path.join(PROJECT_PATH, 'dataset/wikisql/language_variation_split/english_test_split.json'), 'r'))\n",
    "\n",
    "len(sql_iid_train), len(sql_iid_dev), len(sql_iid_test)"
   ]
  },
  {
   "cell_type": "code",
   "execution_count": null,
   "id": "c46591d3-406c-4957-b16c-104363f2a6a3",
   "metadata": {},
   "outputs": [],
   "source": []
  },
  {
   "cell_type": "markdown",
   "id": "fd9496c2-a0ae-4d8d-b660-185323f350c5",
   "metadata": {
    "tags": []
   },
   "source": [
    "## Question/queries intersection in train/test"
   ]
  },
  {
   "cell_type": "code",
   "execution_count": null,
   "id": "0cd1b6bd-102b-406b-b758-6e45189545cf",
   "metadata": {},
   "outputs": [],
   "source": [
    "def check_question_query_interection(train_set, dev_set, test_set, dataset_name):\n",
    "    train_questions_set = set([sample['question'] for sample in train_set])\n",
    "    test_questions_set = set([sample['question'] for sample in test_set])\n",
    "    if dev_set:\n",
    "        dev_questions_set = set([sample['question'] for sample in dev_set])\n",
    "        \n",
    "    train_query_set = set([sample['masked_query'] for sample in train_set])\n",
    "    test_query_set = set([sample['masked_query'] for sample in test_set])\n",
    "    if dev_set:\n",
    "        dev_query_set = set([sample['masked_query'] for sample in dev_set])\n",
    "        \n",
    "    print(f\"Stats for {dataset_name}\")\n",
    "    \n",
    "    print('Unique questions in Train: ', len(train_questions_set))\n",
    "    print('Unique questions in Test: ', len(test_questions_set))\n",
    "    if dev_set:\n",
    "        print('Unique questions in Dev: ', len(dev_questions_set))\n",
    "    print()\n",
    "    \n",
    "    test_train_question_intersection = len(test_questions_set.intersection(train_questions_set)) / len(test_questions_set)\n",
    "    print('Test questions in Train Percent: ', round(test_train_question_intersection, 2))\n",
    "        \n",
    "    print(\"---------------------------------\")\n",
    "    \n",
    "    print('Unique queries in Train: ', len(train_query_set))\n",
    "    print('Unique queries in Test: ', len(test_questions_set))\n",
    "    if dev_set:\n",
    "        print('Unique queries in Dev: ', len(dev_query_set))\n",
    "    print()\n",
    "    \n",
    "    test_train_query_intersection = len(test_query_set.intersection(train_query_set)) / len(test_questions_set)\n",
    "    print('Test queries in Train Percent: ', round(test_train_query_intersection, 2))"
   ]
  },
  {
   "cell_type": "markdown",
   "id": "82989fa8-602a-4eba-94ae-ca8f4f7953cb",
   "metadata": {
    "tags": []
   },
   "source": [
    "### SPARQL"
   ]
  },
  {
   "cell_type": "code",
   "execution_count": null,
   "id": "5daa6053-72ab-4dc8-bf1b-097a29579433",
   "metadata": {},
   "outputs": [],
   "source": [
    "check_question_query_interection(train_set=sparql_os_train,\n",
    "                                dev_set=None,\n",
    "                                test_set=sparql_os_test, dataset_name='Sparql Original Split')"
   ]
  },
  {
   "cell_type": "code",
   "execution_count": null,
   "id": "b76e775e-a787-4549-9e6c-14f5ac78d672",
   "metadata": {},
   "outputs": [],
   "source": [
    "check_question_query_interection(train_set=sparql_iid_train,\n",
    "                                dev_set=sparql_iid_dev,\n",
    "                                test_set=sparql_iid_test, dataset_name='Sparql Lang Var Split')"
   ]
  },
  {
   "cell_type": "code",
   "execution_count": null,
   "id": "57813e53-da38-452d-908a-22d859cd6262",
   "metadata": {},
   "outputs": [],
   "source": [
    "check_question_query_interection(train_set=sparql_tl_train,\n",
    "                                dev_set=sparql_tl_dev,\n",
    "                                test_set=sparql_tl_test, dataset_name='Sparql Target Length Split')"
   ]
  },
  {
   "cell_type": "code",
   "execution_count": null,
   "id": "7b2798fe-5480-4f6d-a610-c1b951389455",
   "metadata": {},
   "outputs": [],
   "source": [
    "check_question_query_interection(train_set=sparql_tmcd_train,\n",
    "                                dev_set=sparql_tmcd_dev,\n",
    "                                test_set=sparql_tmcd_test, dataset_name='Sparql TMCD Split')"
   ]
  },
  {
   "cell_type": "markdown",
   "id": "9e0aa8d4-f7ed-4b05-9a05-125c810d893d",
   "metadata": {
    "tags": []
   },
   "source": [
    "### SQL"
   ]
  },
  {
   "cell_type": "code",
   "execution_count": null,
   "id": "bb5833f1-888e-47f9-863a-1aff9386b080",
   "metadata": {},
   "outputs": [],
   "source": [
    "check_question_query_interection(train_set=sql_os_train,\n",
    "                                dev_set=sql_os_dev,\n",
    "                                test_set=sql_os_test, dataset_name='SQL Original Split')"
   ]
  },
  {
   "cell_type": "code",
   "execution_count": null,
   "id": "65211aee-29b8-4b4d-8dbe-a334b6be4db1",
   "metadata": {},
   "outputs": [],
   "source": [
    "check_question_query_interection(train_set=sql_iid_train,\n",
    "                                dev_set=sql_iid_dev,\n",
    "                                test_set=sql_iid_test, dataset_name='SQL Language Variation Split')"
   ]
  },
  {
   "cell_type": "code",
   "execution_count": null,
   "id": "0f426584-6949-4bad-8515-e3813ae881fb",
   "metadata": {},
   "outputs": [],
   "source": [
    "check_question_query_interection(train_set=sql_tl_train,\n",
    "                                dev_set=sql_tl_dev,\n",
    "                                test_set=sql_tl_test, dataset_name='SQL Target Length Split')"
   ]
  },
  {
   "cell_type": "code",
   "execution_count": null,
   "id": "770614c6-3e4e-4091-b24b-6760a9570076",
   "metadata": {},
   "outputs": [],
   "source": [
    "check_question_query_interection(train_set=sql_tmcd_train,\n",
    "                                dev_set=sql_tmcd_dev,\n",
    "                                test_set=sql_tmcd_test, dataset_name='SQL TMCD Split')"
   ]
  },
  {
   "cell_type": "code",
   "execution_count": null,
   "id": "6ff29e15-8c45-4f5e-a9c2-ea5aad9409ee",
   "metadata": {},
   "outputs": [],
   "source": []
  },
  {
   "cell_type": "markdown",
   "id": "a3fe71ac-4768-46db-b3b2-3b051d33619a",
   "metadata": {
    "tags": []
   },
   "source": [
    "## Распределение по длинне целевых запросов"
   ]
  },
  {
   "cell_type": "code",
   "execution_count": null,
   "id": "ad6fc508-d383-4266-8704-ed0c9340eaf3",
   "metadata": {},
   "outputs": [],
   "source": [
    "def calculate_split_target_length(train_set, test_set, dataset_name):\n",
    "    train_length_array = [len(s['masked_query'].split()) for s in train_set]\n",
    "    test_length_array = [len(s['masked_query'].split()) for s in test_set]\n",
    "    \n",
    "    print(f'Dataset stats {dataset_name}')\n",
    "    \n",
    "    print('Train Average lenght: ', round(np.mean(train_length_array), 3))\n",
    "    print('Train 95 percentile: ', round(np.percentile(train_length_array, 95), 3))\n",
    "    \n",
    "    print('Test Average lenght: ', round(np.mean(test_length_array), 3))\n",
    "    print('Test 95 percentile: ', round(np.percentile(test_length_array, 95), 3))"
   ]
  },
  {
   "cell_type": "markdown",
   "id": "2811176c-9d07-4994-bb11-ffcd658a7608",
   "metadata": {},
   "source": [
    "### SPARQL"
   ]
  },
  {
   "cell_type": "code",
   "execution_count": null,
   "id": "a941f701-2b1d-4d1c-b30b-46c3e0cff524",
   "metadata": {},
   "outputs": [],
   "source": [
    "calculate_split_target_length(train_set=sparql_os_train, \n",
    "                            test_set=sparql_os_test,\n",
    "                            dataset_name='Original split SPARQL')"
   ]
  },
  {
   "cell_type": "code",
   "execution_count": null,
   "id": "5dd42fc9-84d6-40d4-a0c8-0360dc12ccbe",
   "metadata": {},
   "outputs": [],
   "source": [
    "calculate_split_target_length(train_set=sparql_iid_train, \n",
    "                            test_set=sparql_iid_test,\n",
    "                            dataset_name='Lang var SPARQL')"
   ]
  },
  {
   "cell_type": "code",
   "execution_count": null,
   "id": "c3dee784-3440-4e86-ba4c-46b8812b8731",
   "metadata": {},
   "outputs": [],
   "source": [
    "calculate_split_target_length(train_set=sparql_tl_train, \n",
    "                            test_set=sparql_tl_test,\n",
    "                            dataset_name='target length SPARQL')"
   ]
  },
  {
   "cell_type": "code",
   "execution_count": null,
   "id": "2205da96-9e51-455d-b495-cebdda4a8ac5",
   "metadata": {},
   "outputs": [],
   "source": [
    "calculate_split_target_length(train_set=sparql_tmcd_train, \n",
    "                            test_set=sparql_tmcd_test,\n",
    "                            dataset_name='TMCD SPARQL')"
   ]
  },
  {
   "cell_type": "markdown",
   "id": "f5ef2663-bf8b-492b-a490-4768456d2ac1",
   "metadata": {},
   "source": [
    "### SQL"
   ]
  },
  {
   "cell_type": "code",
   "execution_count": null,
   "id": "e4878de5-f240-4e9e-b7a1-40ca9bcf3041",
   "metadata": {},
   "outputs": [],
   "source": [
    "calculate_split_target_length(train_set=sql_os_train, \n",
    "                            test_set=sql_os_test,\n",
    "                            dataset_name='Original split SQL')"
   ]
  },
  {
   "cell_type": "code",
   "execution_count": null,
   "id": "4fcb2386-6a6b-4298-8519-06667245b679",
   "metadata": {},
   "outputs": [],
   "source": [
    "calculate_split_target_length(train_set=sql_iid_train, \n",
    "                            test_set=sql_iid_test,\n",
    "                            dataset_name='Lang var SQL')"
   ]
  },
  {
   "cell_type": "code",
   "execution_count": null,
   "id": "6bb5373d-2bcf-4edd-9636-d4b985d13f21",
   "metadata": {},
   "outputs": [],
   "source": [
    "calculate_split_target_length(train_set=sql_tl_train, \n",
    "                            test_set=sql_tl_test,\n",
    "                            dataset_name='target length SQL')"
   ]
  },
  {
   "cell_type": "code",
   "execution_count": null,
   "id": "3e87c1de-ac77-4529-9be5-bdcce2f4db53",
   "metadata": {},
   "outputs": [],
   "source": [
    "calculate_split_target_length(train_set=sql_tmcd_train, \n",
    "                            test_set=sql_tmcd_test,\n",
    "                            dataset_name='TMCD SQL')"
   ]
  },
  {
   "cell_type": "code",
   "execution_count": null,
   "id": "ae8f08d2-0359-49d2-84bd-0249c4e52988",
   "metadata": {},
   "outputs": [],
   "source": []
  },
  {
   "cell_type": "markdown",
   "id": "3ac953fa-059e-4441-a0a5-d4f4f16b5ea4",
   "metadata": {
    "tags": []
   },
   "source": [
    "## Train/test compound distribution"
   ]
  },
  {
   "cell_type": "code",
   "execution_count": null,
   "id": "88ad62ad-a78d-40c4-ad4c-8f08e65eeb6c",
   "metadata": {},
   "outputs": [],
   "source": [
    "def check_compound_train_test_distr(train_set, test_set, parser, dataset_name):\n",
    "    parser_compounds = list(parser.query_parser_dict.values())[0].compound_parsers_dict\n",
    "    \n",
    "    parsed_train_queries_set = set()\n",
    "    train_compound_dict = {key: [] for key in parser_compounds}\n",
    "    train_queries = [sample['masked_query'] for sample in train_set]\n",
    "    train_kbs = [sample['kb_id'] for sample in train_set]\n",
    "    \n",
    "    parsed_test_queries_set = set()\n",
    "    test_compound_dict = {key: [] for key in parser_compounds}\n",
    "    test_queries = [sample['masked_query'] for sample in test_set]\n",
    "    test_kbs = [sample['kb_id'] for sample in test_set]\n",
    "    \n",
    "    print('Parsing train queries!')\n",
    "    for query, kb in tqdm.tqdm(zip(train_queries, train_kbs), total=len(train_queries)):\n",
    "        compound_dict = parser.get_compounds(query, kb)\n",
    "        for key in compound_dict:\n",
    "            train_compound_dict[key] += compound_dict[key]\n",
    "        \n",
    "    print('Parsing test queries')\n",
    "    for query, kb in tqdm.tqdm(zip(test_queries, test_kbs), total=len(test_queries)):\n",
    "        compound_dict = parser.get_compounds(query, kb)\n",
    "        for key in compound_dict:\n",
    "            test_compound_dict[key] += compound_dict[key]\n",
    "    \n",
    "    print(f'Unique Compound proportion in {dataset_name}')\n",
    "    train_length = len(train_set)\n",
    "    for key in train_compound_dict:\n",
    "        compound_proportion = round(len(set(train_compound_dict[key])) / train_length, 3)\n",
    "        print(f\"train {key} proportion: \", compound_proportion)\n",
    "    print()\n",
    "    test_length = len(test_set)\n",
    "    for key in test_compound_dict:\n",
    "        compound_proportion = round(len(set(test_compound_dict[key])) / test_length, 3)\n",
    "        print(f\"test {key} proportion: \", compound_proportion)"
   ]
  },
  {
   "cell_type": "markdown",
   "id": "84938a99-4df7-4552-bdb3-6216df5f34a5",
   "metadata": {
    "tags": []
   },
   "source": [
    "### SPARQL"
   ]
  },
  {
   "cell_type": "code",
   "execution_count": null,
   "id": "db1b07d5-427d-41f6-a090-f53f16a8e445",
   "metadata": {},
   "outputs": [],
   "source": [
    "check_compound_train_test_distr(train_set=sparql_os_train, \n",
    "                            test_set=sparql_os_test, parser=cached_sparql_parser, \n",
    "                            dataset_name='Original split SPARQL')"
   ]
  },
  {
   "cell_type": "code",
   "execution_count": null,
   "id": "6534320d-7aa1-47cc-9820-947a936c0710",
   "metadata": {},
   "outputs": [],
   "source": [
    "check_compound_train_test_distr(train_set=sparql_iid_train, \n",
    "                            test_set=sparql_iid_test, parser=cached_sparql_parser, \n",
    "                            dataset_name='Lang var SPARQL')"
   ]
  },
  {
   "cell_type": "code",
   "execution_count": null,
   "id": "37a87ad6-3cf8-4a38-a152-1bbc7e57baaa",
   "metadata": {},
   "outputs": [],
   "source": [
    "check_compound_train_test_distr(train_set=sparql_tl_train, \n",
    "                            test_set=sparql_tl_test, parser=cached_sparql_parser, \n",
    "                            dataset_name='Target length SPARQL')"
   ]
  },
  {
   "cell_type": "code",
   "execution_count": null,
   "id": "07478281-9a27-4f15-933d-193bd235ca42",
   "metadata": {},
   "outputs": [],
   "source": [
    "check_compound_train_test_distr(train_set=sparql_tmcd_train, \n",
    "                            test_set=sparql_tmcd_test, parser=cached_sparql_parser, \n",
    "                            dataset_name='TMCD SPARQL')"
   ]
  },
  {
   "cell_type": "code",
   "execution_count": null,
   "id": "bcd0a4ee-1b9c-490d-adda-04c38ade2c39",
   "metadata": {},
   "outputs": [],
   "source": []
  },
  {
   "cell_type": "markdown",
   "id": "df741d39-da38-4d53-8f39-47628f54e7fa",
   "metadata": {
    "tags": []
   },
   "source": [
    "### SQL"
   ]
  },
  {
   "cell_type": "code",
   "execution_count": null,
   "id": "dee25a8e-c1ef-4172-ae71-1eedd371137f",
   "metadata": {},
   "outputs": [],
   "source": [
    "check_compound_train_test_distr(train_set=sql_os_train, \n",
    "                            test_set=sql_os_test, parser=cached_sql_parser, \n",
    "                            dataset_name='Original split SQL')"
   ]
  },
  {
   "cell_type": "code",
   "execution_count": null,
   "id": "e10ce9ca-46ba-4d95-9917-54d729c50062",
   "metadata": {},
   "outputs": [],
   "source": [
    "check_compound_train_test_distr(train_set=sql_iid_train, \n",
    "                            test_set=sql_iid_test, parser=cached_sql_parser, \n",
    "                            dataset_name='Lang var SQL')"
   ]
  },
  {
   "cell_type": "code",
   "execution_count": null,
   "id": "9f298921-e126-4ee9-83b6-17f3e2669b1e",
   "metadata": {},
   "outputs": [],
   "source": [
    "check_compound_train_test_distr(train_set=sql_tl_train, \n",
    "                            test_set=sql_tl_test, parser=cached_sql_parser, \n",
    "                            dataset_name='Target length SQL')"
   ]
  },
  {
   "cell_type": "code",
   "execution_count": null,
   "id": "4d35d39d-3c33-4823-843c-0570166f938d",
   "metadata": {},
   "outputs": [],
   "source": [
    "check_compound_train_test_distr(train_set=sql_tmcd_train, \n",
    "                            test_set=sql_tmcd_test, parser=cached_sql_parser, \n",
    "                            dataset_name='TMCD SQL')"
   ]
  },
  {
   "cell_type": "markdown",
   "id": "950518bf-2ea2-47cf-86ad-f7bcb7b4b763",
   "metadata": {
    "tags": []
   },
   "source": [
    "## Train/test compound intersection"
   ]
  },
  {
   "cell_type": "code",
   "execution_count": null,
   "id": "38bb191c-e634-4899-9a61-9c8f5f3772fe",
   "metadata": {},
   "outputs": [],
   "source": [
    "def check_compound_intersection(train_set, test_set, parser, dataset_name):\n",
    "    parser_compounds = list(parser.query_parser_dict.values())[0].compound_parsers_dict\n",
    "    \n",
    "    parsed_train_queries_set = set()\n",
    "    train_compound_dict = {key: [] for key in parser_compounds}\n",
    "    train_queries = [sample['masked_query'] for sample in train_set]\n",
    "    train_kbs = [sample['kb_id'] for sample in train_set]\n",
    "    \n",
    "    parsed_test_queries_set = set()\n",
    "    test_compound_dict = {key: [] for key in parser_compounds}\n",
    "    test_queries = [sample['masked_query'] for sample in test_set]\n",
    "    test_kbs = [sample['kb_id'] for sample in test_set]\n",
    "    \n",
    "    print('Parsing train queries!')\n",
    "    for query, kb in tqdm.tqdm(zip(train_queries, train_kbs), total=len(train_queries)):\n",
    "        compound_dict = parser.get_compounds(query, kb)\n",
    "        for key in compound_dict:\n",
    "            train_compound_dict[key] += compound_dict[key]\n",
    "        \n",
    "    print('Parsing test queries')\n",
    "    for query, kb in tqdm.tqdm(zip(test_queries, test_kbs), total=len(test_queries)):\n",
    "        compound_dict = parser.get_compounds(query, kb)\n",
    "        for key in compound_dict:\n",
    "            test_compound_dict[key] += compound_dict[key]\n",
    "                \n",
    "    print(f'Compound intersection for {dataset_name}')\n",
    "    for key in train_compound_dict:\n",
    "        compound_train_set = set(train_compound_dict[key])\n",
    "        compound_test_set = set(test_compound_dict[key])\n",
    "        intersect_size = len(compound_train_set.intersection(compound_test_set))\n",
    "        if len(compound_test_set) == 0:\n",
    "            intersect_ratio = 0\n",
    "        else:\n",
    "            intersect_ratio = round(intersect_size / len(compound_test_set), 2)\n",
    "        print(f'Amount of train samples in test for compound {key}: ', intersect_ratio)"
   ]
  },
  {
   "cell_type": "markdown",
   "id": "82c05462-fedf-4a3b-bb70-ffef3b6ac2f1",
   "metadata": {
    "tags": []
   },
   "source": [
    "### SPARQL"
   ]
  },
  {
   "cell_type": "code",
   "execution_count": null,
   "id": "ce18f0d1-7d90-43a6-9c8a-cd642cd0baf4",
   "metadata": {},
   "outputs": [],
   "source": [
    "check_compound_intersection(train_set=sparql_os_train, \n",
    "                            test_set=sparql_os_test, parser=cached_sparql_parser, \n",
    "                            dataset_name='Original split SPARQL')"
   ]
  },
  {
   "cell_type": "code",
   "execution_count": null,
   "id": "b33d75a0-56ad-412e-9344-eb7e8d5b8ab8",
   "metadata": {},
   "outputs": [],
   "source": [
    "check_compound_intersection(train_set=sparql_iid_train, \n",
    "                            test_set=sparql_iid_test, parser=cached_sparql_parser, \n",
    "                            dataset_name='Language variation SPARQL')"
   ]
  },
  {
   "cell_type": "code",
   "execution_count": null,
   "id": "3daa2a5c-23d6-439f-b646-c7bcb32b7167",
   "metadata": {},
   "outputs": [],
   "source": [
    "check_compound_intersection(train_set=sparql_tl_train, \n",
    "                            test_set=sparql_tl_test, parser=cached_sparql_parser, \n",
    "                            dataset_name='target length SPARQL')"
   ]
  },
  {
   "cell_type": "code",
   "execution_count": null,
   "id": "304f900c-7487-4d00-a5c4-1c9ebdbe7333",
   "metadata": {},
   "outputs": [],
   "source": [
    "check_compound_intersection(train_set=sparql_tmcd_train, \n",
    "                            test_set=sparql_tmcd_test, parser=cached_sparql_parser, \n",
    "                            dataset_name='TMCD SPARQL')"
   ]
  },
  {
   "cell_type": "markdown",
   "id": "624fd901-479f-45a5-82cf-a20ed8256ffb",
   "metadata": {
    "tags": []
   },
   "source": [
    "### SQL"
   ]
  },
  {
   "cell_type": "code",
   "execution_count": null,
   "id": "5da320c8-264b-463f-8211-f967411ef1d7",
   "metadata": {},
   "outputs": [],
   "source": [
    "check_compound_intersection(train_set=sql_os_train, \n",
    "                            test_set=sql_os_test, parser=cached_sql_parser, \n",
    "                            dataset_name='Original split SQL')"
   ]
  },
  {
   "cell_type": "code",
   "execution_count": null,
   "id": "f4459e9c-8b67-4b3e-b811-f6367593def3",
   "metadata": {},
   "outputs": [],
   "source": [
    "check_compound_intersection(train_set=sql_iid_train, \n",
    "                            test_set=sql_iid_test, parser=cached_sql_parser, \n",
    "                            dataset_name='Lanugage variation split SQL')"
   ]
  },
  {
   "cell_type": "code",
   "execution_count": null,
   "id": "e63a063e-fdf3-4f68-a5f5-689c113c8ad0",
   "metadata": {},
   "outputs": [],
   "source": [
    "check_compound_intersection(train_set=sql_tl_train, \n",
    "                            test_set=sql_tl_test, parser=cached_sql_parser, \n",
    "                            dataset_name='Target length SQL')"
   ]
  },
  {
   "cell_type": "code",
   "execution_count": null,
   "id": "f8bd947f-d2cb-4256-8509-371914dc9a32",
   "metadata": {},
   "outputs": [],
   "source": [
    "check_compound_intersection(train_set=sql_tmcd_train, \n",
    "                            test_set=sql_tmcd_test, parser=cached_sql_parser, \n",
    "                            dataset_name='TMCD SQL')"
   ]
  },
  {
   "cell_type": "code",
   "execution_count": null,
   "id": "196fb8c2-2d5a-4eeb-b19b-f14f9bc01e31",
   "metadata": {},
   "outputs": [],
   "source": []
  },
  {
   "cell_type": "code",
   "execution_count": null,
   "id": "f8ffcc4b-c0b6-4d3f-9c36-de03fe7e7f2d",
   "metadata": {},
   "outputs": [],
   "source": []
  },
  {
   "cell_type": "code",
   "execution_count": null,
   "id": "1488cb7c-d7cf-406e-ac06-931f1c10573c",
   "metadata": {},
   "outputs": [],
   "source": []
  },
  {
   "cell_type": "code",
   "execution_count": null,
   "id": "4ee2f046-33f9-445f-8c78-fc4586eb819b",
   "metadata": {},
   "outputs": [],
   "source": [
    "import matplotlib.pylab as plt\n",
    "import numpy as np\n",
    "\n",
    "%pylab inline"
   ]
  },
  {
   "cell_type": "code",
   "execution_count": null,
   "id": "70091717-be6d-4cfb-993b-d8573f9fd738",
   "metadata": {},
   "outputs": [],
   "source": [
    "data = json.load(open('/Users/somov-od/Documents/phd/projects/CompGen/my_dataset/wikisql/whole_wikisql.json', 'r'))\n",
    "\n",
    "\n",
    "len(data)"
   ]
  },
  {
   "cell_type": "code",
   "execution_count": null,
   "id": "709bcbae-b51a-4672-862b-9a1786866016",
   "metadata": {},
   "outputs": [],
   "source": [
    "data[0]"
   ]
  },
  {
   "cell_type": "code",
   "execution_count": null,
   "id": "9f3a76c2-3fac-4f7e-aabf-c8ea408a2565",
   "metadata": {},
   "outputs": [],
   "source": [
    "np.percentile(length_list, 50)"
   ]
  },
  {
   "cell_type": "code",
   "execution_count": null,
   "id": "f6c01b41-51d9-4a5a-aed6-71f1b5d0590d",
   "metadata": {},
   "outputs": [],
   "source": [
    "len(list(filter(lambda x: x > np.percentile(length_list, 50), length_list)))"
   ]
  },
  {
   "cell_type": "code",
   "execution_count": null,
   "id": "9e195377-3656-4bf4-9d47-99cab2783338",
   "metadata": {},
   "outputs": [],
   "source": [
    "length_list = [len(sample['masked_query'].split()) for sample in data]\n",
    "\n",
    "plt.hist(length_list, bins= 50)"
   ]
  },
  {
   "cell_type": "code",
   "execution_count": null,
   "id": "86a3b244-58e2-4417-a706-29942373c757",
   "metadata": {
    "pycharm": {
     "name": "#%%\n"
    }
   },
   "outputs": [],
   "source": [
    "len(length_list)"
   ]
  }
 ],
 "metadata": {
  "kernelspec": {
   "display_name": "Python 3 (ipykernel)",
   "language": "python",
   "name": "python3"
  },
  "language_info": {
   "codemirror_mode": {
    "name": "ipython",
    "version": 3
   },
   "file_extension": ".py",
   "mimetype": "text/x-python",
   "name": "python",
   "nbconvert_exporter": "python",
   "pygments_lexer": "ipython3",
   "version": "3.9.7"
  }
 },
 "nbformat": 4,
 "nbformat_minor": 5
}