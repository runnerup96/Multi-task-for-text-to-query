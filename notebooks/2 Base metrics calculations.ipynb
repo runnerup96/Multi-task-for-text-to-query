{
 "cells": [
  {
   "cell_type": "code",
   "execution_count": null,
   "id": "0880f10f-e4c4-453c-9ae6-e2d94f6c3b64",
   "metadata": {},
   "outputs": [],
   "source": [
    "import json\n",
    "import os\n",
    "from collections import Counter\n",
    "from nltk.translate.bleu_score import sentence_bleu"
   ]
  },
  {
   "cell_type": "code",
   "execution_count": null,
   "id": "18931fed-f718-4ce8-99c0-a5b2a2fd60cc",
   "metadata": {},
   "outputs": [],
   "source": [
    "PROJECT_PATH = ''#path to project\n",
    "DATAPATH = ''#path to code"
   ]
  },
  {
   "cell_type": "code",
   "execution_count": null,
   "id": "26c4d4ca-abae-49d5-b86d-b08145406054",
   "metadata": {},
   "outputs": [],
   "source": [
    "FOLDER_NAME = 'tmcd_sparql_hirm_control_v5'\n",
    "FILE_NAME = 'epoch_94_tm_0.85_t5_predictions.json'"
   ]
  },
  {
   "cell_type": "markdown",
   "id": "7d20f5a0-19f7-4262-a5a1-7591f9a4fa56",
   "metadata": {},
   "source": [
    "### Чтение предсказания"
   ]
  },
  {
   "cell_type": "code",
   "execution_count": null,
   "id": "3dd83d59-6ac9-4cc0-9d74-3a9135402024",
   "metadata": {},
   "outputs": [],
   "source": [
    "prediction_file = json.load(open(os.path.join(DATAPATH, FOLDER_NAME, FILE_NAME), 'r'))\n",
    "prediction_list, true_list = prediction_file['predicted_queries'], prediction_file['true_queries']\n",
    "prediction_file['test_metrics'], len(prediction_list), len(true_list)"
   ]
  },
  {
   "cell_type": "markdown",
   "id": "3c65185f-d4bc-4419-962e-4897ecc4da20",
   "metadata": {},
   "source": [
    "### Exact Match"
   ]
  },
  {
   "cell_type": "code",
   "execution_count": null,
   "id": "d9dd5b21-c4c7-440a-b933-838a98fef7ba",
   "metadata": {},
   "outputs": [],
   "source": [
    "hits = 0\n",
    "for true, pred in zip(prediction_list, true_list):\n",
    "    if true.lower() == pred.lower():\n",
    "        hits += 1\n",
    "    \n",
    "exact_match = hits / len(true_list)\n",
    "print('Exact Match: ', round(exact_match, 3))"
   ]
  },
  {
   "cell_type": "code",
   "execution_count": null,
   "id": "320d1029-78db-4eb9-84d5-9cd980c48f1c",
   "metadata": {},
   "outputs": [],
   "source": []
  },
  {
   "cell_type": "markdown",
   "id": "6aba7115-5ed3-4175-86c1-b20058c153b5",
   "metadata": {},
   "source": [
    "### BLEU"
   ]
  },
  {
   "cell_type": "code",
   "execution_count": null,
   "id": "bd19b1ec-1ad0-4e15-9edf-a93debd69ed5",
   "metadata": {},
   "outputs": [],
   "source": [
    "def calculate_bleu(pred_query, true_query):\n",
    "    pred_tokens = pred_query.split()\n",
    "    true_tokens = true_query.split()\n",
    "    # TODO - set weights as average per compounds\n",
    "    bleu = sentence_bleu([true_tokens], pred_tokens)\n",
    "    return bleu"
   ]
  },
  {
   "cell_type": "code",
   "execution_count": null,
   "id": "b09a9649-e560-42c1-bc21-4e9b749bf4e1",
   "metadata": {},
   "outputs": [],
   "source": [
    "total_bleu = 0\n",
    "for true, pred in zip(prediction_list, true_list):\n",
    "    total_bleu += calculate_bleu(pred.lower(), true.lower())\n",
    "    \n",
    "print('BLEU: ', round(total_bleu/len(true_list), 3))"
   ]
  },
  {
   "cell_type": "markdown",
   "id": "68fa7920-c255-49aa-ac0e-a253cc11a96a",
   "metadata": {},
   "source": [
    "### NGRAM F1"
   ]
  },
  {
   "cell_type": "code",
   "execution_count": null,
   "id": "1b8e74a8-a23a-40c0-9d50-d8f1b0a52adf",
   "metadata": {},
   "outputs": [],
   "source": [
    "def calculate_token_wise_f1(pred_query, true_query):\n",
    "    pred_tokens = pred_query.split()\n",
    "    true_tokens = true_query.split()\n",
    "    \n",
    "    common = Counter(pred_tokens) & Counter(true_tokens)\n",
    "    num_same = sum(common.values())\n",
    "    \n",
    "    recall = num_same/len(true_tokens)\n",
    "    precision = num_same/len(pred_tokens)\n",
    "    f1 =  (2*precision*recall)/(recall+precision)\n",
    "    return {\n",
    "        \"recall\": recall,\n",
    "        \"precision\": precision,\n",
    "        \"f1\": f1\n",
    "    }"
   ]
  },
  {
   "cell_type": "code",
   "execution_count": null,
   "id": "167f87a2-9878-4e3b-a1e3-c742a95214e9",
   "metadata": {},
   "outputs": [],
   "source": [
    "total_recall, total_precision, total_f1 = 0, 0, 0\n",
    "for true, pred in zip(prediction_list, true_list):\n",
    "    metrics_dict = calculate_token_wise_f1(pred.lower(), true.lower())\n",
    "    \n",
    "    total_recall += metrics_dict['recall']\n",
    "    total_precision += metrics_dict['precision']\n",
    "    total_f1 += metrics_dict['f1']\n",
    "    \n",
    "print('Average recall: ', round(total_recall/len(true_list), 3))\n",
    "print('Average precision: ', round(total_precision/len(true_list), 3))\n",
    "print('Average f1: ', round(total_f1/len(true_list), 3))"
   ]
  },
  {
   "cell_type": "code",
   "execution_count": null,
   "id": "590a60a0-0e98-4e6c-9041-14e3d06bcfbc",
   "metadata": {},
   "outputs": [],
   "source": []
  },
  {
   "cell_type": "code",
   "execution_count": null,
   "id": "56d70abb-beda-435e-a776-e38f7384b552",
   "metadata": {},
   "outputs": [],
   "source": []
  },
  {
   "cell_type": "code",
   "execution_count": null,
   "id": "65fc6853-f953-4d96-bd8a-6768c7f8b1d0",
   "metadata": {},
   "outputs": [],
   "source": []
  },
  {
   "cell_type": "code",
   "execution_count": null,
   "id": "766d070e-84c9-4423-acae-81d5eb01ba49",
   "metadata": {},
   "outputs": [],
   "source": []
  },
  {
   "cell_type": "code",
   "execution_count": null,
   "id": "d3a0154f-e38b-4313-85bb-22b67c326e93",
   "metadata": {},
   "outputs": [],
   "source": []
  },
  {
   "cell_type": "code",
   "execution_count": null,
   "id": "95bfbda5-0e0f-45f3-bd34-0da659bad40f",
   "metadata": {},
   "outputs": [],
   "source": []
  },
  {
   "cell_type": "markdown",
   "id": "7a5f508f-61a5-4d85-91bb-e193b3323eb2",
   "metadata": {},
   "source": [
    "### Что за ошибки в тесте?"
   ]
  }
 ],
 "metadata": {
  "kernelspec": {
   "display_name": "Python 3 (ipykernel)",
   "language": "python",
   "name": "python3"
  },
  "language_info": {
   "codemirror_mode": {
    "name": "ipython",
    "version": 3
   },
   "file_extension": ".py",
   "mimetype": "text/x-python",
   "name": "python",
   "nbconvert_exporter": "python",
   "pygments_lexer": "ipython3",
   "version": "3.9.7"
  }
 },
 "nbformat": 4,
 "nbformat_minor": 5
}
